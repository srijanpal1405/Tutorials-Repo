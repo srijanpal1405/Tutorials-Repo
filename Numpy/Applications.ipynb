{
  "nbformat": 4,
  "nbformat_minor": 2,
  "metadata": {
    "colab": {
      "name": "Applications.ipynb",
      "provenance": [],
      "collapsed_sections": [
        "nXPTCPh5dg58",
        "t8TrMZKMUrLA",
        "IUD7wpbGUJO8"
      ]
    },
    "kernelspec": {
      "name": "python3",
      "display_name": "Python 3"
    },
    "language_info": {
      "name": "python"
    }
  },
  "cells": [
    {
      "cell_type": "markdown",
      "source": [
        "# Some ridiculous applications to learn/practise NumPy 🐍"
      ],
      "metadata": {
        "id": "_0m2wtuEhgwp"
      }
    },
    {
      "cell_type": "markdown",
      "source": [
        "## 💡 Problem 1: A simple pendulum\n",
        "Calculate and plot the displacement of an ideal oscillating pendulum with respect to time."
      ],
      "metadata": {
        "id": "Li0W5MbaZ65i"
      }
    },
    {
      "cell_type": "markdown",
      "source": [
        "\n",
        "<img align=\"left\" width=\"200\" height=\"300\" src=\"https://upload.wikimedia.org/wikipedia/commons/f/fa/PenduloTmg.gif\">\n",
        "\n",
        "<p align=\"center\">\n",
        "We have to calcluate the $\\theta$ for over a time t. Luckily we know a formula for $\\theta$,\n",
        "<br>\n",
        "<br>\n",
        "$$\\theta(t) = \\theta_{max}\\cos(\\omega t)$$\n",
        "where, $\\omega = \\sqrt\\frac{g}{L}$\n",
        "<br>\n",
        "<br>\n",
        "<a href=\"https://www.myphysicslab.com/pendulum/pendulum-en.html\"> A sample example </a>\n",
        "</p>\n"
      ],
      "metadata": {
        "id": "3V_XufWToJhw"
      }
    },
    {
      "cell_type": "markdown",
      "source": [
        "### Answer"
      ],
      "metadata": {
        "id": "WBId5m7wvHPN"
      }
    },
    {
      "cell_type": "markdown",
      "source": [
        "\n",
        "<details>\n",
        "<summary>\n",
        "Hint 1 👇\n",
        "</summary>\n",
        "Input the required constant parameters like $\\theta_{max}$ and $L$. You can input parameter by using the `input` command. Here is an example:\n",
        "\n",
        "```python\n",
        "a = input(\"Enter the value of a: \")\n",
        "# Conver to Int or float if required\n",
        "a = int(a)\n",
        "```\n",
        "</details>"
      ],
      "metadata": {
        "id": "5PJC0AchhcXc"
      }
    },
    {
      "cell_type": "code",
      "execution_count": null,
      "source": [],
      "outputs": [],
      "metadata": {
        "id": "YgUgln3Bwmia"
      }
    },
    {
      "cell_type": "markdown",
      "source": [
        "\n",
        "<details>\n",
        "<summary>\n",
        "Hint 2 👇\n",
        "</summary>\n",
        "Calucate the secondary parameters like $\\omega$ by using value of $g$ an $L$.\n",
        "\n",
        "But how can you find the square root a number? If not just <b>Google</b>\n",
        "</details>\n"
      ],
      "metadata": {
        "id": "KbG0I6Q5wKhW"
      }
    },
    {
      "cell_type": "code",
      "execution_count": null,
      "source": [],
      "outputs": [],
      "metadata": {
        "id": "B_mSNX2cykLl"
      }
    },
    {
      "cell_type": "markdown",
      "source": [
        "<details>\n",
        "<summary>\n",
        "Hint 3 👇\n",
        "</summary>\n",
        "Make an array for the dependent variable $t$. <code>np.linspace</code> is convenient function. \n",
        "</details>\n"
      ],
      "metadata": {
        "id": "LUyG0qMjymg9"
      }
    },
    {
      "cell_type": "code",
      "execution_count": null,
      "source": [],
      "outputs": [],
      "metadata": {
        "id": "7_b-mrlyLGdn"
      }
    },
    {
      "cell_type": "markdown",
      "source": [
        "\n",
        "<details>\n",
        "<summary>\n",
        "Hint 4 👇\n",
        "</summary>\n",
        "For the plotting part, you can make use of the following  code snippet:\n",
        "\n",
        "```python\n",
        "import matpllotlib.pyplot as plt\n",
        "plt.plot(t, theta)\n",
        "```\n",
        "</details>\n"
      ],
      "metadata": {
        "id": "DvZoJgY_LvdU"
      }
    },
    {
      "cell_type": "code",
      "execution_count": null,
      "source": [],
      "outputs": [],
      "metadata": {
        "id": "WsMuqt8XLs4u"
      }
    },
    {
      "cell_type": "markdown",
      "source": [
        "## 😱 Problem 2: A more real life pendulum \n",
        "Calculate and plot the displacement of an damped pendulum with respect to time."
      ],
      "metadata": {
        "id": "aNHO6dj7LZMZ"
      }
    },
    {
      "cell_type": "markdown",
      "source": [
        "A damped pendulum unlike an ideal pendulum stops with time, it's displacement from the center decreases with time until it levels to zero. So here the maximum displacement is also a function of time which decreases with increasing time. We choose the maximum displacement($\\theta_{max}$) to be an exponentially decaying function of $t$. The displacement function $\\theta(t)$ can therefore be written as:\n",
        "<br>\n",
        "<br>\n",
        "\n",
        "$\\theta(t) = \\theta_{max}\\times e^{-at}\\cos(\\omega t)$\n",
        "\n",
        "where, $\\omega = \\sqrt\\frac{g}{L}$ and $a > 0$\n",
        "\n",
        "Experiment with different value of $a$ for obtaining different kinds of curves."
      ],
      "metadata": {
        "id": "3YvqIr_1MrSw"
      }
    },
    {
      "cell_type": "markdown",
      "source": [
        "<details>\n",
        "<summary>\n",
        "Hint 👇\n",
        "</summary>\n",
        "The problem is very similar to the previous problem, except you have an exponentially decreasing amplitude. Instead of multiplying a scalar amplitude value like the previous mulitply an array elementwise instead.\n",
        "</details>\n"
      ],
      "metadata": {
        "id": "8nnMMAN6OMbM"
      }
    },
    {
      "cell_type": "markdown",
      "source": [
        "## Answer"
      ],
      "metadata": {
        "id": "nXPTCPh5dg58"
      }
    },
    {
      "cell_type": "code",
      "execution_count": null,
      "source": [],
      "outputs": [],
      "metadata": {
        "id": "lTxcqXAudjgJ"
      }
    },
    {
      "cell_type": "markdown",
      "source": [
        "## 📸  Problem 3: A photo of the past\n",
        "\n",
        "Take photo and convert it into a b&w picture. If your computer has a camrea attached you can try it live on your own photo."
      ],
      "metadata": {
        "id": "cIs_PwPVLapB"
      }
    },
    {
      "cell_type": "markdown",
      "source": [
        "### Say cheeese 🧀🧀"
      ],
      "metadata": {
        "id": "t8TrMZKMUrLA"
      }
    },
    {
      "cell_type": "code",
      "execution_count": null,
      "source": [
        "from IPython.display import display, Javascript\n",
        "from google.colab.output import eval_js\n",
        "from base64 import b64decode\n",
        "\n",
        "def take_photo(filename='cutie.jpg', quality=0.8):\n",
        "  js = Javascript('''\n",
        "    async function takePhoto(quality) {\n",
        "      const div = document.createElement('div');\n",
        "      const capture = document.createElement('button');\n",
        "      capture.textContent = 'Capture';\n",
        "      div.appendChild(capture);\n",
        "\n",
        "      const video = document.createElement('video');\n",
        "      video.style.display = 'block';\n",
        "      const stream = await navigator.mediaDevices.getUserMedia({video: true});\n",
        "\n",
        "      document.body.appendChild(div);\n",
        "      div.appendChild(video);\n",
        "      video.srcObject = stream;\n",
        "      await video.play();\n",
        "\n",
        "      // Resize the output to fit the video element.\n",
        "      google.colab.output.setIframeHeight(document.documentElement.scrollHeight, true);\n",
        "\n",
        "      // Wait for Capture to be clicked.\n",
        "      await new Promise((resolve) => capture.onclick = resolve);\n",
        "\n",
        "      const canvas = document.createElement('canvas');\n",
        "      canvas.width = video.videoWidth;\n",
        "      canvas.height = video.videoHeight;\n",
        "      canvas.getContext('2d').drawImage(video, 0, 0);\n",
        "      stream.getVideoTracks()[0].stop();\n",
        "      div.remove();\n",
        "      return canvas.toDataURL('image/jpeg', quality);\n",
        "    }\n",
        "    ''')\n",
        "  display(js)\n",
        "  data = eval_js('takePhoto({})'.format(quality))\n",
        "  binary = b64decode(data.split(',')[1])\n",
        "  with open(filename, 'wb') as f:\n",
        "    f.write(binary)\n",
        "  return filename\n",
        "\n",
        "import IPython.display as disp\n",
        "try:\n",
        "  filename = take_photo()\n",
        "  print('Saved to {}'.format(filename))\n",
        "  \n",
        "  # Show the image which was just taken.\n",
        "  display(disp.Image(filename))\n",
        "except Exception as err:\n",
        "  # Errors will be thrown if the user does not have a webcam or if they do not\n",
        "  # grant the page permission to access it.\n",
        "  print(str(err))"
      ],
      "outputs": [],
      "metadata": {
        "id": "Nyl4AIvDO0dP"
      }
    },
    {
      "cell_type": "markdown",
      "source": [
        "## Answer"
      ],
      "metadata": {
        "id": "IUD7wpbGUJO8"
      }
    },
    {
      "cell_type": "markdown",
      "source": [
        "\n",
        "<details>\n",
        "<summary>\n",
        "Hint 1 👇\n",
        "</summary>\n",
        "FOr manipluating the image matrices, it is important that we have them as array of floats instead of pixels. Let's first read the image from the computer and convert it into a more array like format.\n",
        "\n",
        "It is preferred you use Python `PIL`'s `Image` module and `numpy.asarray()` for such a task.\n",
        "\n",
        "</details>\n"
      ],
      "metadata": {
        "id": "r6VOw5wgVfE7"
      }
    },
    {
      "cell_type": "code",
      "execution_count": null,
      "source": [],
      "outputs": [],
      "metadata": {
        "id": "Pyryc_JLWjNz"
      }
    },
    {
      "cell_type": "markdown",
      "source": [
        "\n",
        "<details>\n",
        "<summary>\n",
        "Hint 2 👇\n",
        "</summary>\n",
        "Understanding the data you have at hand is very crucial before you can perform any operation on it. Discover the data stored in each channels using array slicing and <code>matplotlib.pyplot.imshow()</code> function.\n",
        "\n",
        "To display a 2D slice, this code snippet might come handy:\n",
        "\n",
        "```python\n",
        "import matplotlib.pyplot as plt\n",
        "plt.imshow(arr[:,:,2], cmap='Blues')\n",
        "plt.xticks([])\n",
        "plt.yticks([])\n",
        "plt.show()\n",
        "```\n",
        "</details>\n"
      ],
      "metadata": {
        "id": "XVyF-WKnW44R"
      }
    },
    {
      "cell_type": "code",
      "execution_count": null,
      "source": [],
      "outputs": [],
      "metadata": {
        "id": "tbQbqdhJX_hH"
      }
    },
    {
      "cell_type": "markdown",
      "source": [
        "\n",
        "<details>\n",
        "<summary>\n",
        "Hint 3 👇\n",
        "</summary>\n",
        "These slices are 2D matrices can be considered as B&W, however taking only one slice(let's say red) completely ignores the intensity of image in blue and green slices. So we have to find a way to take in these three slices and find a 2D matrix that contains considerable amout of information from each slices.\n",
        "\n",
        "For a quick way out find operations that preserves the size of an array or matrix.\n",
        "</details>\n"
      ],
      "metadata": {
        "id": "l_lYIBgYbcps"
      }
    },
    {
      "cell_type": "code",
      "execution_count": null,
      "source": [],
      "outputs": [],
      "metadata": {
        "id": "e7t6E6EvcSGE"
      }
    },
    {
      "cell_type": "markdown",
      "source": [
        "<details>\n",
        "<summary>\n",
        "Hint 4 👇\n",
        "</summary>\n",
        "<a href=\"https://e2eml.school/convert_rgb_to_grayscale.html\"> Ultimate Guide</a>\n",
        "</details>\n"
      ],
      "metadata": {
        "id": "1_xkrKPzcoFS"
      }
    },
    {
      "cell_type": "code",
      "execution_count": null,
      "source": [],
      "outputs": [],
      "metadata": {
        "id": "eUz-wGP3dBSl"
      }
    }
  ]
}